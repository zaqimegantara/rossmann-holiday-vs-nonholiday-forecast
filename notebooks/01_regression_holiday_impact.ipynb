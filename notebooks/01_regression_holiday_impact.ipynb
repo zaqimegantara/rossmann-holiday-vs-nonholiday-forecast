{
 "cells": [
  {
   "cell_type": "markdown",
   "id": "c793ed6b",
   "metadata": {},
   "source": [
    "## Import Libraries"
   ]
  },
  {
   "cell_type": "code",
   "execution_count": null,
   "id": "9b26041f",
   "metadata": {},
   "outputs": [],
   "source": [
    "import pandas as pd\n",
    "from pathlib import Path\n"
   ]
  },
  {
   "cell_type": "markdown",
   "id": "22104fd7",
   "metadata": {},
   "source": [
    "## Load Data"
   ]
  },
  {
   "cell_type": "code",
   "execution_count": null,
   "id": "4656ba6d",
   "metadata": {},
   "outputs": [],
   "source": [
    "file_path = Path(\"..\") / \"data\" / \"train.csv\"\n",
    "df = pd.read_csv(file_path)"
   ]
  },
  {
   "cell_type": "markdown",
   "id": "87800956",
   "metadata": {},
   "source": [
    "## Convert Date column `to_datetime` format"
   ]
  },
  {
   "cell_type": "code",
   "execution_count": null,
   "id": "824864f7",
   "metadata": {},
   "outputs": [],
   "source": [
    "df['Date'] = pd.to_datetime(df['Date'])\n"
   ]
  },
  {
   "cell_type": "markdown",
   "id": "24e68f55",
   "metadata": {},
   "source": [
    "## Feature Engineering"
   ]
  },
  {
   "cell_type": "code",
   "execution_count": null,
   "id": "5d1f3e97",
   "metadata": {},
   "outputs": [],
   "source": [
    "df['DayOfWeek'] = df['Date'].dt.dayofweek\n",
    "df['Promo'] = df['Promo'].astype(int)\n",
    "df['SchoolHoliday'] = df['SchoolHoliday'].astype(int)\n",
    "df['StateHoliday_a'] = (df['StateHoliday'] == 'a').astype(int)\n",
    "df['StateHoliday_b'] = (df['StateHoliday'] == 'b').astype(int)\n",
    "df['StateHoliday_c'] = (df['StateHoliday'] == 'c').astype(int)\n"
   ]
  },
  {
   "cell_type": "markdown",
   "id": "f047259c",
   "metadata": {},
   "source": [
    "## Store Selection\n",
    "\n",
    "To focus our regression analysis, we selected **Store 262**, which has the **highest total sales** across the dataset. This ensures we’re analyzing a store with sufficient data and clear patterns, making it a strong candidate for evaluating holiday effects.\n"
   ]
  },
  {
   "cell_type": "code",
   "execution_count": null,
   "id": "8db4b8b6",
   "metadata": {},
   "outputs": [],
   "source": [
    "store_sales = df.groupby('Store')['Sales'].sum().reset_index()\n",
    "store_sales = store_sales.sort_values(by='Sales', ascending=False)\n",
    "\n",
    "top_stores = store_sales.head(10)\n",
    "top_stores"
   ]
  },
  {
   "cell_type": "markdown",
   "id": "4106d036",
   "metadata": {},
   "source": [
    "## Select Store ID 262"
   ]
  },
  {
   "cell_type": "code",
   "execution_count": null,
   "id": "e31920ee",
   "metadata": {},
   "outputs": [],
   "source": [
    "store_id = 262\n",
    "df_store = df[df['Store'] == store_id].copy()\n"
   ]
  },
  {
   "cell_type": "markdown",
   "id": "81ab00e0",
   "metadata": {},
   "source": [
    "## Remove 0 Sales"
   ]
  },
  {
   "cell_type": "code",
   "execution_count": null,
   "id": "e441a251",
   "metadata": {},
   "outputs": [],
   "source": [
    "df_store = df_store[df_store['Sales'] > 0]\n"
   ]
  },
  {
   "cell_type": "markdown",
   "id": "7905ade8",
   "metadata": {},
   "source": [
    "## OLS Regression to Analyze Holiday Impact\n",
    "\n",
    "We run a linear regression to estimate the effect of holidays and promotions on daily sales in Store 262. We include binary features for each holiday type (a, b, c), school holidays, promotions, and day of the week.\n"
   ]
  },
  {
   "cell_type": "code",
   "execution_count": null,
   "id": "4db49362",
   "metadata": {},
   "outputs": [],
   "source": [
    "import statsmodels.api as sm\n",
    "\n",
    "features = ['Promo', 'SchoolHoliday', 'StateHoliday_a', 'StateHoliday_b', 'StateHoliday_c', 'DayOfWeek']\n",
    "X = df_store[features]\n",
    "y = df_store['Sales']\n",
    "\n",
    "X = sm.add_constant(X)  # Add intercept term\n",
    "model = sm.OLS(y, X).fit()\n",
    "print(model.summary())\n"
   ]
  },
  {
   "cell_type": "markdown",
   "id": "63d713d5",
   "metadata": {},
   "source": [
    "### Interpretation: Holiday Impact on Sales\n",
    "\n",
    "The regression analysis shows that all three types of state holidays (`a`, `b`, and `c`) have a **statistically significant positive effect** on daily sales in Store 262:\n",
    "\n",
    "- **StateHoliday_a**: On average, sales increase by **12,570 units**\n",
    "- **StateHoliday_b**: On average, sales increase by **15,170 units**\n",
    "- **StateHoliday_c**: On average, sales increase by **8,707 units**\n",
    "\n",
    "These results suggest that Store 262 experiences **higher customer traffic or demand during state holidays**, regardless of promotions or school breaks. \n",
    "\n",
    "We conclude that **state holidays are positively associated with increased sales**, and should be considered an important factor in sales forecasting for this store.\n"
   ]
  }
 ],
 "metadata": {
  "kernelspec": {
   "display_name": "rossmann_env",
   "language": "python",
   "name": "python3"
  },
  "language_info": {
   "codemirror_mode": {
    "name": "ipython",
    "version": 3
   },
   "file_extension": ".py",
   "mimetype": "text/x-python",
   "name": "python",
   "nbconvert_exporter": "python",
   "pygments_lexer": "ipython3",
   "version": "3.10.16"
  }
 },
 "nbformat": 4,
 "nbformat_minor": 5
}
