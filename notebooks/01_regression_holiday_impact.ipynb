{
 "cells": [
  {
   "cell_type": "markdown",
   "id": "c793ed6b",
   "metadata": {},
   "source": [
    "## Import Libraries"
   ]
  },
  {
   "cell_type": "code",
   "execution_count": null,
   "id": "9b26041f",
   "metadata": {},
   "outputs": [],
   "source": [
    "import pandas as pd\n",
    "from pathlib import Path\n"
   ]
  },
  {
   "cell_type": "markdown",
   "id": "22104fd7",
   "metadata": {},
   "source": [
    "## Load Data"
   ]
  },
  {
   "cell_type": "code",
   "execution_count": 3,
   "id": "4656ba6d",
   "metadata": {},
   "outputs": [
    {
     "name": "stderr",
     "output_type": "stream",
     "text": [
      "C:\\Users\\Zaki\\AppData\\Local\\Temp\\ipykernel_41536\\2359923655.py:2: DtypeWarning: Columns (7) have mixed types. Specify dtype option on import or set low_memory=False.\n",
      "  df = pd.read_csv(file_path)\n"
     ]
    }
   ],
   "source": [
    "file_path = Path(\"..\") / \"data\" / \"train.csv\"\n",
    "df = pd.read_csv(file_path)"
   ]
  },
  {
   "cell_type": "markdown",
   "id": "87800956",
   "metadata": {},
   "source": [
    "## Convert Date column `to_datetime` format"
   ]
  },
  {
   "cell_type": "code",
   "execution_count": 9,
   "id": "824864f7",
   "metadata": {},
   "outputs": [],
   "source": [
    "df['Date'] = pd.to_datetime(df['Date'])\n"
   ]
  },
  {
   "cell_type": "markdown",
   "id": "24e68f55",
   "metadata": {},
   "source": [
    "## Feature Engineering"
   ]
  },
  {
   "cell_type": "code",
   "execution_count": 10,
   "id": "5d1f3e97",
   "metadata": {},
   "outputs": [],
   "source": [
    "df['DayOfWeek'] = df['Date'].dt.dayofweek\n",
    "df['Promo'] = df['Promo'].astype(int)\n",
    "df['SchoolHoliday'] = df['SchoolHoliday'].astype(int)\n",
    "df['StateHoliday_a'] = (df['StateHoliday'] == 'a').astype(int)\n",
    "df['StateHoliday_b'] = (df['StateHoliday'] == 'b').astype(int)\n",
    "df['StateHoliday_c'] = (df['StateHoliday'] == 'c').astype(int)\n"
   ]
  },
  {
   "cell_type": "markdown",
   "id": "f047259c",
   "metadata": {},
   "source": [
    "## Store Selection\n",
    "\n",
    "To focus our regression analysis, we selected **Store 262**, which has the **highest total sales** across the dataset. This ensures we’re analyzing a store with sufficient data and clear patterns, making it a strong candidate for evaluating holiday effects.\n"
   ]
  },
  {
   "cell_type": "code",
   "execution_count": 14,
   "id": "8db4b8b6",
   "metadata": {},
   "outputs": [
    {
     "data": {
      "text/html": [
       "<div>\n",
       "<style scoped>\n",
       "    .dataframe tbody tr th:only-of-type {\n",
       "        vertical-align: middle;\n",
       "    }\n",
       "\n",
       "    .dataframe tbody tr th {\n",
       "        vertical-align: top;\n",
       "    }\n",
       "\n",
       "    .dataframe thead th {\n",
       "        text-align: right;\n",
       "    }\n",
       "</style>\n",
       "<table border=\"1\" class=\"dataframe\">\n",
       "  <thead>\n",
       "    <tr style=\"text-align: right;\">\n",
       "      <th></th>\n",
       "      <th>Store</th>\n",
       "      <th>Sales</th>\n",
       "    </tr>\n",
       "  </thead>\n",
       "  <tbody>\n",
       "    <tr>\n",
       "      <th>261</th>\n",
       "      <td>262</td>\n",
       "      <td>19516842</td>\n",
       "    </tr>\n",
       "    <tr>\n",
       "      <th>816</th>\n",
       "      <td>817</td>\n",
       "      <td>17057867</td>\n",
       "    </tr>\n",
       "    <tr>\n",
       "      <th>561</th>\n",
       "      <td>562</td>\n",
       "      <td>16927322</td>\n",
       "    </tr>\n",
       "    <tr>\n",
       "      <th>1113</th>\n",
       "      <td>1114</td>\n",
       "      <td>16202585</td>\n",
       "    </tr>\n",
       "    <tr>\n",
       "      <th>250</th>\n",
       "      <td>251</td>\n",
       "      <td>14896870</td>\n",
       "    </tr>\n",
       "    <tr>\n",
       "      <th>512</th>\n",
       "      <td>513</td>\n",
       "      <td>14252406</td>\n",
       "    </tr>\n",
       "    <tr>\n",
       "      <th>787</th>\n",
       "      <td>788</td>\n",
       "      <td>14082141</td>\n",
       "    </tr>\n",
       "    <tr>\n",
       "      <th>732</th>\n",
       "      <td>733</td>\n",
       "      <td>14067158</td>\n",
       "    </tr>\n",
       "    <tr>\n",
       "      <th>382</th>\n",
       "      <td>383</td>\n",
       "      <td>13489879</td>\n",
       "    </tr>\n",
       "    <tr>\n",
       "      <th>755</th>\n",
       "      <td>756</td>\n",
       "      <td>12911782</td>\n",
       "    </tr>\n",
       "  </tbody>\n",
       "</table>\n",
       "</div>"
      ],
      "text/plain": [
       "      Store     Sales\n",
       "261     262  19516842\n",
       "816     817  17057867\n",
       "561     562  16927322\n",
       "1113   1114  16202585\n",
       "250     251  14896870\n",
       "512     513  14252406\n",
       "787     788  14082141\n",
       "732     733  14067158\n",
       "382     383  13489879\n",
       "755     756  12911782"
      ]
     },
     "execution_count": 14,
     "metadata": {},
     "output_type": "execute_result"
    }
   ],
   "source": [
    "store_sales = df.groupby('Store')['Sales'].sum().reset_index()\n",
    "store_sales = store_sales.sort_values(by='Sales', ascending=False)\n",
    "\n",
    "top_stores = store_sales.head(10)\n",
    "top_stores"
   ]
  },
  {
   "cell_type": "markdown",
   "id": "4106d036",
   "metadata": {},
   "source": [
    "## Select Store ID 262"
   ]
  },
  {
   "cell_type": "code",
   "execution_count": 15,
   "id": "e31920ee",
   "metadata": {},
   "outputs": [],
   "source": [
    "store_id = 262\n",
    "df_store = df[df['Store'] == store_id].copy()\n"
   ]
  },
  {
   "cell_type": "markdown",
   "id": "81ab00e0",
   "metadata": {},
   "source": [
    "## Remove 0 Sales"
   ]
  },
  {
   "cell_type": "code",
   "execution_count": 16,
   "id": "e441a251",
   "metadata": {},
   "outputs": [],
   "source": [
    "df_store = df_store[df_store['Sales'] > 0]\n"
   ]
  },
  {
   "cell_type": "markdown",
   "id": "7905ade8",
   "metadata": {},
   "source": [
    "## OLS Regression to Analyze Holiday Impact\n",
    "\n",
    "We run a linear regression to estimate the effect of holidays and promotions on daily sales in Store 262. We include binary features for each holiday type (a, b, c), school holidays, promotions, and day of the week.\n"
   ]
  },
  {
   "cell_type": "code",
   "execution_count": 17,
   "id": "4db49362",
   "metadata": {},
   "outputs": [
    {
     "name": "stdout",
     "output_type": "stream",
     "text": [
      "                            OLS Regression Results                            \n",
      "==============================================================================\n",
      "Dep. Variable:                  Sales   R-squared:                       0.354\n",
      "Model:                            OLS   Adj. R-squared:                  0.350\n",
      "Method:                 Least Squares   F-statistic:                     85.34\n",
      "Date:                Wed, 28 May 2025   Prob (F-statistic):           2.96e-85\n",
      "Time:                        12:52:48   Log-Likelihood:                -9089.1\n",
      "No. Observations:                 942   AIC:                         1.819e+04\n",
      "Df Residuals:                     935   BIC:                         1.823e+04\n",
      "Df Model:                           6                                         \n",
      "Covariance Type:            nonrobust                                         \n",
      "==================================================================================\n",
      "                     coef    std err          t      P>|t|      [0.025      0.975]\n",
      "----------------------------------------------------------------------------------\n",
      "const           1.621e+04    307.330     52.749      0.000    1.56e+04    1.68e+04\n",
      "Promo           2342.6929    275.290      8.510      0.000    1802.435    2882.951\n",
      "SchoolHoliday   -267.6585    332.847     -0.804      0.422    -920.872     385.555\n",
      "StateHoliday_a  1.257e+04   1020.920     12.309      0.000    1.06e+04    1.46e+04\n",
      "StateHoliday_b  1.517e+04   1544.988      9.819      0.000    1.21e+04    1.82e+04\n",
      "StateHoliday_c  8706.9131   1909.392      4.560      0.000    4959.723    1.25e+04\n",
      "DayOfWeek       1113.9419     68.422     16.280      0.000     979.663    1248.221\n",
      "==============================================================================\n",
      "Omnibus:                       68.696   Durbin-Watson:                   1.563\n",
      "Prob(Omnibus):                  0.000   Jarque-Bera (JB):               85.110\n",
      "Skew:                           0.653   Prob(JB):                     3.30e-19\n",
      "Kurtosis:                       3.682   Cond. No.                         57.7\n",
      "==============================================================================\n",
      "\n",
      "Notes:\n",
      "[1] Standard Errors assume that the covariance matrix of the errors is correctly specified.\n"
     ]
    }
   ],
   "source": [
    "import statsmodels.api as sm\n",
    "\n",
    "features = ['Promo', 'SchoolHoliday', 'StateHoliday_a', 'StateHoliday_b', 'StateHoliday_c', 'DayOfWeek']\n",
    "X = df_store[features]\n",
    "y = df_store['Sales']\n",
    "\n",
    "X = sm.add_constant(X)  # Add intercept term\n",
    "model = sm.OLS(y, X).fit()\n",
    "print(model.summary())\n"
   ]
  },
  {
   "cell_type": "markdown",
   "id": "63d713d5",
   "metadata": {},
   "source": [
    "### Interpretation: Holiday Impact on Sales\n",
    "\n",
    "The regression analysis shows that all three types of state holidays (`a`, `b`, and `c`) have a **statistically significant positive effect** on daily sales in Store 262:\n",
    "\n",
    "- **StateHoliday_a**: On average, sales increase by **12,570 units**\n",
    "- **StateHoliday_b**: On average, sales increase by **15,170 units**\n",
    "- **StateHoliday_c**: On average, sales increase by **8,707 units**\n",
    "\n",
    "These results suggest that Store 262 experiences **higher customer traffic or demand during state holidays**, regardless of promotions or school breaks. \n",
    "\n",
    "We conclude that **state holidays are positively associated with increased sales**, and should be considered an important factor in sales forecasting for this store.\n"
   ]
  }
 ],
 "metadata": {
  "kernelspec": {
   "display_name": "rossmann_env",
   "language": "python",
   "name": "python3"
  },
  "language_info": {
   "codemirror_mode": {
    "name": "ipython",
    "version": 3
   },
   "file_extension": ".py",
   "mimetype": "text/x-python",
   "name": "python",
   "nbconvert_exporter": "python",
   "pygments_lexer": "ipython3",
   "version": "3.10.16"
  }
 },
 "nbformat": 4,
 "nbformat_minor": 5
}
